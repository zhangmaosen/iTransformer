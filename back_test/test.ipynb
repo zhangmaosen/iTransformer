{
 "cells": [
  {
   "cell_type": "code",
   "execution_count": 1,
   "metadata": {},
   "outputs": [],
   "source": [
    "import tushare as ts\n",
    "import pandas as pd\n",
    "import matplotlib\n",
    "matplotlib.use('agg')\n",
    "pro = ts.pro_api()\n",
    "df = pro.daily(ts_code='000001.SZ', start_date='20110101', end_date='20210101').iloc[::-1]\n",
    "df.to_csv('stock_data.csv', index=False )"
   ]
  },
  {
   "cell_type": "code",
   "execution_count": 2,
   "metadata": {},
   "outputs": [
    {
     "data": {
      "text/plain": [
       "[[<Figure size 640x480 with 5 Axes>]]"
      ]
     },
     "execution_count": 2,
     "metadata": {},
     "output_type": "execute_result"
    }
   ],
   "source": [
    "from datetime import datetime\n",
    "import backtrader as bt\n",
    "import backtrader.feeds as btfeeds\n",
    "\n",
    "class SmaCross(bt.SignalStrategy):\n",
    "    def __init__(self):\n",
    "        sma1, sma2 = bt.ind.SMA(period=10), bt.ind.SMA(period=30)\n",
    "        crossover = bt.ind.CrossOver(sma1, sma2)\n",
    "        self.signal_add(bt.SIGNAL_LONG, crossover)\n",
    "\n",
    "cerebro = bt.Cerebro()\n",
    "cerebro.addstrategy(SmaCross)\n",
    "\n",
    "data = btfeeds.GenericCSVData(\n",
    "    dataname='stock_data.csv',\n",
    "    fromdate=datetime(2011, 1, 1),\n",
    "    todate=datetime(2012, 12, 31),\n",
    "    nullvalue=0.0,\n",
    "    dtformat=('%Y%m%d'),\n",
    "    datetime=1,\n",
    "    open=2,\n",
    "    high=3,\n",
    "    low=4,    \n",
    "    close=5,\n",
    "    volume=9,\n",
    "    openinterest=-1\n",
    ")\n",
    "\n",
    "cerebro.adddata(data)\n",
    "\n",
    "cerebro.run()\n",
    "cerebro.plot(iplot=False)\n"
   ]
  }
 ],
 "metadata": {
  "kernelspec": {
   "display_name": "base",
   "language": "python",
   "name": "python3"
  },
  "language_info": {
   "codemirror_mode": {
    "name": "ipython",
    "version": 3
   },
   "file_extension": ".py",
   "mimetype": "text/x-python",
   "name": "python",
   "nbconvert_exporter": "python",
   "pygments_lexer": "ipython3",
   "version": "3.10.13"
  }
 },
 "nbformat": 4,
 "nbformat_minor": 2
}
